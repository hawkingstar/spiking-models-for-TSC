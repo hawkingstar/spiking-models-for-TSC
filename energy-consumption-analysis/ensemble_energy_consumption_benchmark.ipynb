{
 "cells": [
  {
   "cell_type": "code",
   "execution_count": 1,
   "id": "b92da0b9",
   "metadata": {},
   "outputs": [
    {
     "ename": "ModuleNotFoundError",
     "evalue": "No module named 'nengo'",
     "output_type": "error",
     "traceback": [
      "\u001b[0;31m---------------------------------------------------------------------------\u001b[0m",
      "\u001b[0;31mModuleNotFoundError\u001b[0m                       Traceback (most recent call last)",
      "Cell \u001b[0;32mIn[1], line 1\u001b[0m\n\u001b[0;32m----> 1\u001b[0m \u001b[38;5;28;01mimport\u001b[39;00m \u001b[38;5;21;01mnengo\u001b[39;00m\n\u001b[1;32m      2\u001b[0m \u001b[38;5;28;01mimport\u001b[39;00m \u001b[38;5;21;01mnengo_loihi\u001b[39;00m\n\u001b[1;32m      3\u001b[0m \u001b[38;5;28;01mfrom\u001b[39;00m \u001b[38;5;21;01mnxsdk\u001b[39;00m\u001b[38;5;21;01m.\u001b[39;00m\u001b[38;5;21;01mgraph\u001b[39;00m\u001b[38;5;21;01m.\u001b[39;00m\u001b[38;5;21;01mmonitor\u001b[39;00m\u001b[38;5;21;01m.\u001b[39;00m\u001b[38;5;21;01mprobes\u001b[39;00m \u001b[38;5;28;01mimport\u001b[39;00m PerformanceProbeCondition\n",
      "\u001b[0;31mModuleNotFoundError\u001b[0m: No module named 'nengo'"
     ]
    }
   ],
   "source": [
    "import nengo\n",
    "import nengo_loihi\n",
    "from nxsdk.graph.monitor.probes import PerformanceProbeCondition\n",
    "from nxsdk.api.n2a import ProbeParameter\n",
    "import numpy as np\n",
    "\n",
    "run_time = 0.140\n",
    "dt = 0.001\n",
    "\n",
    "############  Nengo Ensemble code ###################\n",
    "with nengo.Network() as net:\n",
    "  inp = nengo.Node(1)\n",
    "  ens = nengo.Ensemble(4096, dimensions=1, neuron_type=nengo.SpikingRectifiedLinear()) # N=100 or 4096\n",
    "  p = nengo.Probe(ens)\n",
    "  nengo.Connection(inp, ens)\n",
    "\n",
    "################################################\n",
    "\n",
    "sim = nengo_loihi.Simulator(net, dt=dt)\n",
    "board = sim.sims[\"loihi\"].nxsdk_board\n",
    "probe_cond = PerformanceProbeCondition(\n",
    "    tStart=1, tEnd=int(run_time / dt)*10, bufferSize=1024 * 2, binSize=2\n",
    ")\n",
    "e_probe = board.probe(ProbeParameter.ENERGY, probe_cond)\n",
    "\n",
    "with sim:\n",
    "    sim.run(run_time)\n",
    "    \n",
    "print(\"Done!!!\")"
   ]
  },
  {
   "cell_type": "code",
   "execution_count": 4,
   "id": "cde7e2fb",
   "metadata": {},
   "outputs": [
    {
     "data": {
      "text/plain": [
       "(64407.827000000005, 'uJ')"
      ]
     },
     "execution_count": 4,
     "metadata": {},
     "output_type": "execute_result"
    }
   ],
   "source": [
    "e_probe.totalEnergy, e_probe.energyUnits"
   ]
  },
  {
   "cell_type": "markdown",
   "id": "00d30468",
   "metadata": {},
   "source": [
    "# #######################################################"
   ]
  }
 ],
 "metadata": {
  "kernelspec": {
   "display_name": "Python 3",
   "language": "python",
   "name": "python3"
  },
  "language_info": {
   "codemirror_mode": {
    "name": "ipython",
    "version": 3
   },
   "file_extension": ".py",
   "mimetype": "text/x-python",
   "name": "python",
   "nbconvert_exporter": "python",
   "pygments_lexer": "ipython3",
   "version": "3.10.13"
  }
 },
 "nbformat": 4,
 "nbformat_minor": 5
}
